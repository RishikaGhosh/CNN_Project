{
 "cells": [
  {
   "cell_type": "code",
   "execution_count": 7,
   "id": "e8dbfa06",
   "metadata": {},
   "outputs": [],
   "source": [
    "from keras.models import Sequential\n",
    "from tensorflow.keras import utils as np_utils\n",
    "from keras.layers import Conv2D, MaxPooling2D, Flatten, Dense, Dropout\n",
    "import matplotlib.pyplot as plt\n",
    "from keras.preprocessing.image import ImageDataGenerator\n",
    "from PIL import ImageFile"
   ]
  },
  {
   "cell_type": "code",
   "execution_count": 66,
   "id": "1603844e",
   "metadata": {},
   "outputs": [],
   "source": [
    "classifier = Sequential()\n",
    "classifier.add(Conv2D(filters = 32, kernel_size = (3, 3),activation = 'relu', input_shape = (32,32,1)))\n",
    "classifier.add(Conv2D(filters = 64, kernel_size = (3, 3),activation = 'relu'))\n",
    "classifier.add(MaxPooling2D(pool_size = (2, 2)))\n",
    "classifier.add(Conv2D(filters = 32, kernel_size = (3, 3),activation = 'relu'))\n",
    "classifier.add(Conv2D(filters = 64, kernel_size = (3, 3),activation = 'relu'))\n",
    "classifier.add(Flatten())\n",
    "classifier.add(Dense(units = 128, activation = 'relu'))\n",
    "classifier.add(Dropout(.2))\n",
    "classifier.add(Dense(units = 60, activation = 'softmax'))\n",
    "classifier.compile(optimizer = 'adam', loss = 'categorical_crossentropy', metrics = ['accuracy'])"
   ]
  },
  {
   "cell_type": "code",
   "execution_count": 35,
   "id": "5e3af82e",
   "metadata": {},
   "outputs": [
    {
     "name": "stdout",
     "output_type": "stream",
     "text": [
      "Found 118698 images belonging to 60 classes.\n"
     ]
    }
   ],
   "source": [
    "ImageFile.LOAD_TRUNCATED_IMAGES = True\n",
    "datagen = ImageDataGenerator()\n",
    "data_set = datagen.flow_from_directory('Dataset/BanglaLekha-Isolated/BanglaLekha-Isolated/data_set', target_size = (32,32), \n",
    "                                                 batch_size = 1, class_mode = 'categorical')"
   ]
  },
  {
   "cell_type": "code",
   "execution_count": 24,
   "id": "6cdb8012",
   "metadata": {},
   "outputs": [
    {
     "data": {
      "text/plain": [
       "118698"
      ]
     },
     "execution_count": 24,
     "metadata": {},
     "output_type": "execute_result"
    }
   ],
   "source": [
    "len(data_set)"
   ]
  },
  {
   "cell_type": "code",
   "execution_count": 27,
   "id": "22f9733b",
   "metadata": {},
   "outputs": [
    {
     "name": "stdout",
     "output_type": "stream",
     "text": [
      "Name: scikit-learn"
     ]
    },
    {
     "name": "stderr",
     "output_type": "stream",
     "text": [
      "WARNING: Ignoring invalid distribution -illow (c:\\users\\ghosh\\appdata\\local\\programs\\python\\python39\\lib\\site-packages)\n"
     ]
    },
    {
     "name": "stdout",
     "output_type": "stream",
     "text": [
      "\n",
      "Version: 1.1.3\n",
      "Summary: A set of python modules for machine learning and data mining\n",
      "Home-page: http://scikit-learn.org\n",
      "Author: \n",
      "Author-email: \n",
      "License: new BSD\n",
      "Location: c:\\users\\ghosh\\appdata\\local\\programs\\python\\python39\\lib\\site-packages\n",
      "Requires: joblib, numpy, scipy, threadpoolctl\n",
      "Required-by: \n"
     ]
    }
   ],
   "source": [
    "!pip show scikit_learn"
   ]
  },
  {
   "cell_type": "code",
   "execution_count": 29,
   "id": "a636294c",
   "metadata": {},
   "outputs": [],
   "source": [
    "import sklearn"
   ]
  },
  {
   "cell_type": "code",
   "execution_count": 48,
   "id": "316ae4fc",
   "metadata": {},
   "outputs": [],
   "source": [
    "from sklearn.model_selection import train_test_split"
   ]
  },
  {
   "cell_type": "code",
   "execution_count": 49,
   "id": "0ce75ff5",
   "metadata": {},
   "outputs": [],
   "source": [
    "import splitfolders"
   ]
  },
  {
   "cell_type": "code",
   "execution_count": 50,
   "id": "58aa7e15",
   "metadata": {},
   "outputs": [],
   "source": [
    "splitfolders.ratio('Dataset/BanglaLekha-Isolated/BanglaLekha-Isolated/data_set',output=\"Dataset/BanglaLekha-Isolated/BanglaLekha-Isolated/main\",seed=42,ratio=(.7,.2,.1),group_prefix=None)"
   ]
  },
  {
   "cell_type": "code",
   "execution_count": null,
   "id": "607c08c0",
   "metadata": {},
   "outputs": [],
   "source": []
  },
  {
   "cell_type": "code",
   "execution_count": 69,
   "id": "0c9d7262",
   "metadata": {},
   "outputs": [
    {
     "name": "stdout",
     "output_type": "stream",
     "text": [
      "Found 83063 images belonging to 60 classes.\n",
      "Found 23717 images belonging to 60 classes.\n"
     ]
    }
   ],
   "source": [
    "ImageFile.LOAD_TRUNCATED_IMAGES = True\n",
    "train_datagen = ImageDataGenerator(rescale = 1./255, shear_range = .2, rotation_range = 25)\n",
    "val_datagen = ImageDataGenerator(rescale = 1./255)\n",
    "train_data_set = train_datagen.flow_from_directory('Dataset/BanglaLekha-Isolated/BanglaLekha-Isolated/main/train', target_size = (32,32), \n",
    "                                                 batch_size = 1, class_mode = 'categorical',color_mode=\"grayscale\")\n",
    "val_data_set = val_datagen.flow_from_directory('Dataset/BanglaLekha-Isolated/BanglaLekha-Isolated/main/val', target_size = (32,32), \n",
    "                                                 batch_size = 1, class_mode = 'categorical',color_mode=\"grayscale\")"
   ]
  },
  {
   "cell_type": "code",
   "execution_count": 58,
   "id": "9867e734",
   "metadata": {},
   "outputs": [],
   "source": []
  },
  {
   "cell_type": "code",
   "execution_count": null,
   "id": "7da0ac81",
   "metadata": {},
   "outputs": [],
   "source": []
  },
  {
   "cell_type": "code",
   "execution_count": null,
   "id": "10f7116a",
   "metadata": {},
   "outputs": [],
   "source": []
  },
  {
   "cell_type": "code",
   "execution_count": 55,
   "id": "28f827d8",
   "metadata": {},
   "outputs": [
    {
     "data": {
      "text/plain": [
       "83063"
      ]
     },
     "execution_count": 55,
     "metadata": {},
     "output_type": "execute_result"
    }
   ],
   "source": [
    "len(train_data_set)"
   ]
  },
  {
   "cell_type": "code",
   "execution_count": 46,
   "id": "94772cbb",
   "metadata": {},
   "outputs": [
    {
     "data": {
      "text/plain": [
       "23740"
      ]
     },
     "execution_count": 46,
     "metadata": {},
     "output_type": "execute_result"
    }
   ],
   "source": [
    "len(validation_set)"
   ]
  },
  {
   "cell_type": "code",
   "execution_count": 67,
   "id": "93b269f6",
   "metadata": {},
   "outputs": [
    {
     "name": "stdout",
     "output_type": "stream",
     "text": [
      "Epoch 1/10\n"
     ]
    },
    {
     "name": "stderr",
     "output_type": "stream",
     "text": [
      "C:\\Users\\ghosh\\AppData\\Local\\Temp\\ipykernel_20376\\3694732567.py:1: UserWarning: `Model.fit_generator` is deprecated and will be removed in a future version. Please use `Model.fit`, which supports generators.\n",
      "  classifier.fit_generator(train_data_set, steps_per_epoch =83063, epochs = 10,\n"
     ]
    },
    {
     "name": "stdout",
     "output_type": "stream",
     "text": [
      "83063/83063 [==============================] - 868s 10ms/step - loss: 4.0966 - accuracy: 0.0166 - val_loss: 4.0960 - val_accuracy: 0.0167\n",
      "Epoch 2/10\n",
      "83063/83063 [==============================] - 641s 8ms/step - loss: 4.0966 - accuracy: 0.0162 - val_loss: 4.0960 - val_accuracy: 0.0167\n",
      "Epoch 3/10\n",
      "83063/83063 [==============================] - 636s 8ms/step - loss: 4.0967 - accuracy: 0.0166 - val_loss: 4.0955 - val_accuracy: 0.0167\n",
      "Epoch 4/10\n",
      "83063/83063 [==============================] - 627s 8ms/step - loss: 4.0965 - accuracy: 0.0162 - val_loss: 4.0958 - val_accuracy: 0.0167\n",
      "Epoch 5/10\n",
      "83063/83063 [==============================] - 628s 8ms/step - loss: 4.0965 - accuracy: 0.0164 - val_loss: 4.0960 - val_accuracy: 0.0167\n",
      "Epoch 6/10\n",
      "83063/83063 [==============================] - 627s 8ms/step - loss: 4.0966 - accuracy: 0.0161 - val_loss: 4.0962 - val_accuracy: 0.0167\n",
      "Epoch 7/10\n",
      "83063/83063 [==============================] - 631s 8ms/step - loss: 4.0966 - accuracy: 0.0169 - val_loss: 4.0961 - val_accuracy: 0.0167\n",
      "Epoch 8/10\n",
      "83063/83063 [==============================] - 639s 8ms/step - loss: 4.0967 - accuracy: 0.0163 - val_loss: 4.0956 - val_accuracy: 0.0167\n",
      "Epoch 9/10\n",
      "83063/83063 [==============================] - 678s 8ms/step - loss: 4.0965 - accuracy: 0.0168 - val_loss: 4.0957 - val_accuracy: 0.0167\n",
      "Epoch 10/10\n",
      "83063/83063 [==============================] - 665s 8ms/step - loss: 4.0968 - accuracy: 0.0163 - val_loss: 4.0961 - val_accuracy: 0.0167\n"
     ]
    },
    {
     "data": {
      "text/plain": [
       "<keras.callbacks.History at 0x165047ea580>"
      ]
     },
     "execution_count": 67,
     "metadata": {},
     "output_type": "execute_result"
    }
   ],
   "source": [
    "classifier.fit_generator(train_data_set, steps_per_epoch =83063, epochs = 10,\n",
    "                        validation_data = val_data_set, validation_steps = 23717)"
   ]
  },
  {
   "cell_type": "code",
   "execution_count": 70,
   "id": "a63c7364",
   "metadata": {},
   "outputs": [
    {
     "name": "stdout",
     "output_type": "stream",
     "text": [
      "Epoch 1/30\n",
      "    8/83063 [..............................] - ETA: 10:13 - loss: 4.0409 - accuracy: 0.1250      "
     ]
    },
    {
     "name": "stderr",
     "output_type": "stream",
     "text": [
      "C:\\Users\\ghosh\\AppData\\Local\\Temp\\ipykernel_20376\\745559336.py:1: UserWarning: `Model.fit_generator` is deprecated and will be removed in a future version. Please use `Model.fit`, which supports generators.\n",
      "  model_history = classifier.fit_generator(train_data_set, steps_per_epoch =83063, epochs = 30,\n"
     ]
    },
    {
     "name": "stdout",
     "output_type": "stream",
     "text": [
      "83063/83063 [==============================] - 685s 8ms/step - loss: 4.0968 - accuracy: 0.0155 - val_loss: 4.0958 - val_accuracy: 0.0167\n",
      "Epoch 2/30\n",
      "83063/83063 [==============================] - 659s 8ms/step - loss: 4.0968 - accuracy: 0.0163 - val_loss: 4.0956 - val_accuracy: 0.0166\n",
      "Epoch 3/30\n",
      "83063/83063 [==============================] - 684s 8ms/step - loss: 4.0967 - accuracy: 0.0161 - val_loss: 4.0965 - val_accuracy: 0.0167\n",
      "Epoch 4/30\n",
      "83063/83063 [==============================] - 681s 8ms/step - loss: 4.0967 - accuracy: 0.0167 - val_loss: 4.0961 - val_accuracy: 0.0167\n",
      "Epoch 5/30\n",
      "83063/83063 [==============================] - 686s 8ms/step - loss: 4.0967 - accuracy: 0.0164 - val_loss: 4.0959 - val_accuracy: 0.0167\n",
      "Epoch 6/30\n",
      "83063/83063 [==============================] - 688s 8ms/step - loss: 4.0966 - accuracy: 0.0162 - val_loss: 4.0956 - val_accuracy: 0.0167\n",
      "Epoch 7/30\n",
      "83063/83063 [==============================] - 843s 10ms/step - loss: 4.0968 - accuracy: 0.0168 - val_loss: 4.0958 - val_accuracy: 0.0167\n",
      "Epoch 8/30\n",
      "83063/83063 [==============================] - 752s 9ms/step - loss: 4.0965 - accuracy: 0.0162 - val_loss: 4.0960 - val_accuracy: 0.0167\n",
      "Epoch 9/30\n",
      "83063/83063 [==============================] - 694s 8ms/step - loss: 4.0966 - accuracy: 0.0158 - val_loss: 4.0956 - val_accuracy: 0.0167\n",
      "Epoch 10/30\n",
      "83063/83063 [==============================] - 700s 8ms/step - loss: 4.0968 - accuracy: 0.0163 - val_loss: 4.0958 - val_accuracy: 0.0167\n",
      "Epoch 11/30\n",
      "83063/83063 [==============================] - 706s 8ms/step - loss: 4.0966 - accuracy: 0.0162 - val_loss: 4.0967 - val_accuracy: 0.0167\n",
      "Epoch 12/30\n",
      "83063/83063 [==============================] - 707s 9ms/step - loss: 4.0966 - accuracy: 0.0158 - val_loss: 4.0959 - val_accuracy: 0.0167\n",
      "Epoch 13/30\n",
      "83063/83063 [==============================] - 714s 9ms/step - loss: 4.0967 - accuracy: 0.0163 - val_loss: 4.0962 - val_accuracy: 0.0167\n",
      "Epoch 14/30\n",
      "83063/83063 [==============================] - 716s 9ms/step - loss: 4.0967 - accuracy: 0.0154 - val_loss: 4.0964 - val_accuracy: 0.0167\n",
      "Epoch 15/30\n",
      "83063/83063 [==============================] - 716s 9ms/step - loss: 4.0967 - accuracy: 0.0163 - val_loss: 4.0957 - val_accuracy: 0.0167\n",
      "Epoch 16/30\n",
      "83063/83063 [==============================] - 712s 9ms/step - loss: 4.0967 - accuracy: 0.0160 - val_loss: 4.0958 - val_accuracy: 0.0167\n",
      "Epoch 17/30\n",
      "83063/83063 [==============================] - 722s 9ms/step - loss: 4.0966 - accuracy: 0.0169 - val_loss: 4.0962 - val_accuracy: 0.0167\n",
      "Epoch 18/30\n",
      "83063/83063 [==============================] - 722s 9ms/step - loss: 4.0964 - accuracy: 0.0164 - val_loss: 4.0963 - val_accuracy: 0.0167\n",
      "Epoch 19/30\n",
      "83063/83063 [==============================] - 725s 9ms/step - loss: 4.0965 - accuracy: 0.0167 - val_loss: 4.0965 - val_accuracy: 0.0167\n",
      "Epoch 20/30\n",
      "83063/83063 [==============================] - 713s 9ms/step - loss: 4.0967 - accuracy: 0.0154 - val_loss: 4.0960 - val_accuracy: 0.0167\n",
      "Epoch 21/30\n",
      "83063/83063 [==============================] - 695s 8ms/step - loss: 4.0965 - accuracy: 0.0170 - val_loss: 4.0961 - val_accuracy: 0.0167\n",
      "Epoch 22/30\n",
      "83063/83063 [==============================] - 733s 9ms/step - loss: 4.0966 - accuracy: 0.0169 - val_loss: 4.0958 - val_accuracy: 0.0167\n",
      "Epoch 23/30\n",
      "83063/83063 [==============================] - 715s 9ms/step - loss: 4.0966 - accuracy: 0.0168 - val_loss: 4.0964 - val_accuracy: 0.0167\n",
      "Epoch 24/30\n",
      "83063/83063 [==============================] - 741s 9ms/step - loss: 4.0966 - accuracy: 0.0159 - val_loss: 4.0964 - val_accuracy: 0.0166\n",
      "Epoch 25/30\n",
      "83063/83063 [==============================] - 715s 9ms/step - loss: 4.0967 - accuracy: 0.0166 - val_loss: 4.0959 - val_accuracy: 0.0166\n",
      "Epoch 26/30\n",
      "83063/83063 [==============================] - 712s 9ms/step - loss: 4.0967 - accuracy: 0.0166 - val_loss: 4.0959 - val_accuracy: 0.0167\n",
      "Epoch 27/30\n",
      "83063/83063 [==============================] - 775s 9ms/step - loss: 4.0967 - accuracy: 0.0159 - val_loss: 4.0965 - val_accuracy: 0.0167\n",
      "Epoch 28/30\n",
      "83063/83063 [==============================] - 749s 9ms/step - loss: 4.0967 - accuracy: 0.0171 - val_loss: 4.0958 - val_accuracy: 0.0167\n",
      "Epoch 29/30\n",
      "83063/83063 [==============================] - 758s 9ms/step - loss: 4.0966 - accuracy: 0.0163 - val_loss: 4.0956 - val_accuracy: 0.0167\n",
      "Epoch 30/30\n",
      "83063/83063 [==============================] - 760s 9ms/step - loss: 4.0967 - accuracy: 0.0157 - val_loss: 4.0960 - val_accuracy: 0.0167\n"
     ]
    }
   ],
   "source": [
    "model_history = classifier.fit_generator(train_data_set, steps_per_epoch =83063, epochs = 30,\n",
    "                        validation_data = val_data_set, validation_steps = 23717)"
   ]
  },
  {
   "cell_type": "code",
   "execution_count": null,
   "id": "f782796e",
   "metadata": {},
   "outputs": [],
   "source": []
  }
 ],
 "metadata": {
  "kernelspec": {
   "display_name": "Python 3 (ipykernel)",
   "language": "python",
   "name": "python3"
  },
  "language_info": {
   "codemirror_mode": {
    "name": "ipython",
    "version": 3
   },
   "file_extension": ".py",
   "mimetype": "text/x-python",
   "name": "python",
   "nbconvert_exporter": "python",
   "pygments_lexer": "ipython3",
   "version": "3.9.11"
  }
 },
 "nbformat": 4,
 "nbformat_minor": 5
}

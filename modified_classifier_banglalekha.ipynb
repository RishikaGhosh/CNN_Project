{
  "nbformat": 4,
  "nbformat_minor": 0,
  "metadata": {
    "colab": {
      "provenance": [],
      "mount_file_id": "1nNn0LuLgs32cvEGhHeLwzfs2-tPIqsaU",
      "authorship_tag": "ABX9TyOGyqytIxHmKyDyNc5CyI2U",
      "include_colab_link": true
    },
    "kernelspec": {
      "name": "python3",
      "display_name": "Python 3"
    },
    "language_info": {
      "name": "python"
    },
    "accelerator": "GPU",
    "gpuClass": "standard"
  },
  "cells": [
    {
      "cell_type": "markdown",
      "metadata": {
        "id": "view-in-github",
        "colab_type": "text"
      },
      "source": [
        "<a href=\"https://colab.research.google.com/github/RishikaGhosh/RegionalCharacterDetectionUsingCNN/blob/master/modified_classifier_banglalekha.ipynb\" target=\"_parent\"><img src=\"https://colab.research.google.com/assets/colab-badge.svg\" alt=\"Open In Colab\"/></a>"
      ]
    },
    {
      "cell_type": "code",
      "execution_count": 2,
      "metadata": {
        "colab": {
          "base_uri": "https://localhost:8080/"
        },
        "id": "phFj_HdHiyjU",
        "outputId": "f2ad6533-4a81-462c-abd9-57cd481dfa86"
      },
      "outputs": [
        {
          "output_type": "stream",
          "name": "stdout",
          "text": [
            "Mounted at /content/drive\n"
          ]
        }
      ],
      "source": [
        "from google.colab import drive\n",
        "drive.mount('/content/drive')"
      ]
    },
    {
      "cell_type": "code",
      "source": [],
      "metadata": {
        "id": "TGbwt7VArj0r"
      },
      "execution_count": null,
      "outputs": []
    },
    {
      "cell_type": "code",
      "source": [
        "!unzip /content/drive/MyDrive/data_set.zip> /dev/null"
      ],
      "metadata": {
        "colab": {
          "base_uri": "https://localhost:8080/"
        },
        "id": "pHRVFwRxjhQl",
        "outputId": "097646ca-800b-4446-8e12-a6e77f737c3f"
      },
      "execution_count": 3,
      "outputs": [
        {
          "output_type": "stream",
          "name": "stdout",
          "text": [
            "warning [/content/drive/MyDrive/data_set.zip]:  76 extra bytes at beginning or within zipfile\n",
            "  (attempting to process anyway)\n",
            "error [/content/drive/MyDrive/data_set.zip]:  reported length of central directory is\n",
            "  -76 bytes too long (Atari STZip zipfile?  J.H.Holm ZIPSPLIT 1.1\n",
            "  zipfile?).  Compensating...\n",
            "error:  expected central file header signature not found (file #99001).\n",
            "  (please check that you have transferred or created the zipfile in the\n",
            "  appropriate BINARY mode and that you have compiled UnZip properly)\n"
          ]
        }
      ]
    },
    {
      "cell_type": "code",
      "source": [
        "from keras.models import Sequential\n",
        "from keras.layers import Conv2D, MaxPooling2D, Flatten, Dense, Dropout\n",
        "import tensorflow as tf"
      ],
      "metadata": {
        "id": "_XgDO_UwlFKv"
      },
      "execution_count": 6,
      "outputs": []
    },
    {
      "cell_type": "code",
      "source": [
        "classifier = Sequential()\n",
        "\n",
        "classifier.add(Conv2D(filters = 32, kernel_size = (3, 3), strides = (1,1), padding = \"same\", activation = 'relu', input_shape = (32, 32, 1)))\n",
        "classifier.add(MaxPooling2D(pool_size = (2, 2), padding = \"valid\"))\n",
        "# classifier.add(Dropout(.2))\n",
        "\n",
        "classifier.add(Conv2D(filters = 64, kernel_size = (3, 3), strides = (1,1), padding = \"same\", activation = 'relu'))\n",
        "classifier.add(MaxPooling2D(pool_size = (2, 2), padding = \"valid\"))\n",
        "# classifier.add(Dropout(.2))\n",
        "\n",
        "classifier.add(Conv2D(filters = 128, kernel_size = (3, 3), strides = (1,1), padding = \"same\", activation = 'relu'))\n",
        "classifier.add(MaxPooling2D(pool_size = (2, 2), padding = \"valid\"))\n",
        "# classifier.add(Dropout(.2))\n",
        "\n",
        "classifier.add(Flatten())\n",
        "\n",
        "classifier.add(Dense(units = 128, activation = 'relu'))\n",
        "# classifier.add(Dropout(.2))\n",
        "\n",
        "classifier.add(Dense(units = 64, activation = 'relu'))\n",
        "# classifier.add(Dropout(.2))\n",
        "\n",
        "classifier.add(Dense(units = 50, activation = 'softmax'))"
      ],
      "metadata": {
        "id": "vtH0gzaglIgc"
      },
      "execution_count": 3,
      "outputs": []
    },
    {
      "cell_type": "code",
      "source": [
        "classifier.summary()"
      ],
      "metadata": {
        "colab": {
          "base_uri": "https://localhost:8080/"
        },
        "id": "KBiQfhHnlKiD",
        "outputId": "a30a63ac-f8e6-4772-fe40-7cc758c03aa3"
      },
      "execution_count": 4,
      "outputs": [
        {
          "output_type": "stream",
          "name": "stdout",
          "text": [
            "Model: \"sequential_1\"\n",
            "_________________________________________________________________\n",
            " Layer (type)                Output Shape              Param #   \n",
            "=================================================================\n",
            " conv2d_3 (Conv2D)           (None, 32, 32, 32)        320       \n",
            "                                                                 \n",
            " max_pooling2d_3 (MaxPooling  (None, 16, 16, 32)       0         \n",
            " 2D)                                                             \n",
            "                                                                 \n",
            " conv2d_4 (Conv2D)           (None, 16, 16, 64)        18496     \n",
            "                                                                 \n",
            " max_pooling2d_4 (MaxPooling  (None, 8, 8, 64)         0         \n",
            " 2D)                                                             \n",
            "                                                                 \n",
            " conv2d_5 (Conv2D)           (None, 8, 8, 128)         73856     \n",
            "                                                                 \n",
            " max_pooling2d_5 (MaxPooling  (None, 4, 4, 128)        0         \n",
            " 2D)                                                             \n",
            "                                                                 \n",
            " flatten_1 (Flatten)         (None, 2048)              0         \n",
            "                                                                 \n",
            " dense_3 (Dense)             (None, 128)               262272    \n",
            "                                                                 \n",
            " dense_4 (Dense)             (None, 64)                8256      \n",
            "                                                                 \n",
            " dense_5 (Dense)             (None, 50)                3250      \n",
            "                                                                 \n",
            "=================================================================\n",
            "Total params: 366,450\n",
            "Trainable params: 366,450\n",
            "Non-trainable params: 0\n",
            "_________________________________________________________________\n"
          ]
        }
      ]
    },
    {
      "cell_type": "code",
      "source": [
        "opt = tf.keras.optimizers.Adam(learning_rate=0.0001)\n",
        "classifier.compile(optimizer = opt, loss = 'categorical_crossentropy', metrics = ['accuracy'])\n",
        "classifier.summary()"
      ],
      "metadata": {
        "colab": {
          "base_uri": "https://localhost:8080/"
        },
        "id": "uwCG9baHyFmh",
        "outputId": "580ae802-c737-4b0b-b16d-c68afea46cf5"
      },
      "execution_count": 7,
      "outputs": [
        {
          "output_type": "stream",
          "name": "stdout",
          "text": [
            "Model: \"sequential_1\"\n",
            "_________________________________________________________________\n",
            " Layer (type)                Output Shape              Param #   \n",
            "=================================================================\n",
            " conv2d_3 (Conv2D)           (None, 32, 32, 32)        320       \n",
            "                                                                 \n",
            " max_pooling2d_3 (MaxPooling  (None, 16, 16, 32)       0         \n",
            " 2D)                                                             \n",
            "                                                                 \n",
            " conv2d_4 (Conv2D)           (None, 16, 16, 64)        18496     \n",
            "                                                                 \n",
            " max_pooling2d_4 (MaxPooling  (None, 8, 8, 64)         0         \n",
            " 2D)                                                             \n",
            "                                                                 \n",
            " conv2d_5 (Conv2D)           (None, 8, 8, 128)         73856     \n",
            "                                                                 \n",
            " max_pooling2d_5 (MaxPooling  (None, 4, 4, 128)        0         \n",
            " 2D)                                                             \n",
            "                                                                 \n",
            " flatten_1 (Flatten)         (None, 2048)              0         \n",
            "                                                                 \n",
            " dense_3 (Dense)             (None, 128)               262272    \n",
            "                                                                 \n",
            " dense_4 (Dense)             (None, 64)                8256      \n",
            "                                                                 \n",
            " dense_5 (Dense)             (None, 50)                3250      \n",
            "                                                                 \n",
            "=================================================================\n",
            "Total params: 366,450\n",
            "Trainable params: 366,450\n",
            "Non-trainable params: 0\n",
            "_________________________________________________________________\n"
          ]
        }
      ]
    },
    {
      "cell_type": "code",
      "source": [
        "pip install split-folders"
      ],
      "metadata": {
        "colab": {
          "base_uri": "https://localhost:8080/"
        },
        "id": "UQlkGVlglxQd",
        "outputId": "577ae43b-05de-4391-8dd5-3ec338e65f18"
      },
      "execution_count": 7,
      "outputs": [
        {
          "output_type": "stream",
          "name": "stdout",
          "text": [
            "Looking in indexes: https://pypi.org/simple, https://us-python.pkg.dev/colab-wheels/public/simple/\n",
            "Collecting split-folders\n",
            "  Downloading split_folders-0.5.1-py3-none-any.whl (8.4 kB)\n",
            "Installing collected packages: split-folders\n",
            "Successfully installed split-folders-0.5.1\n"
          ]
        }
      ]
    },
    {
      "cell_type": "code",
      "source": [
        "import splitfolders"
      ],
      "metadata": {
        "id": "X4tcTiugmnWZ"
      },
      "execution_count": 8,
      "outputs": []
    },
    {
      "cell_type": "code",
      "source": [
        "splitfolders.ratio(\"data_set\", output=\"BanglaLekha_dataset\",\n",
        "    seed=1337, ratio=(.7,.1,.2), group_prefix=None, move=False)"
      ],
      "metadata": {
        "colab": {
          "base_uri": "https://localhost:8080/"
        },
        "id": "eBCg0aS7l0O2",
        "outputId": "4680bad7-986a-413a-facb-31e04972be3f"
      },
      "execution_count": 9,
      "outputs": [
        {
          "output_type": "stream",
          "name": "stderr",
          "text": [
            "Copying files: 98950 files [00:17, 5682.19 files/s]\n"
          ]
        }
      ]
    },
    {
      "cell_type": "code",
      "source": [
        "from keras.preprocessing.image import ImageDataGenerator\n",
        "from PIL import Image"
      ],
      "metadata": {
        "id": "UxvmGiHwm0hw"
      },
      "execution_count": 8,
      "outputs": []
    },
    {
      "cell_type": "code",
      "source": [
        "Image.LOAD_TRUNCATED_IMAGES = True\n",
        "\n",
        "\n",
        "train_datagen = ImageDataGenerator(rescale = 1./255,shear_range = .2, rotation_range = 25)\n",
        "val_datagen = ImageDataGenerator(rescale = 1./255)\n",
        "test_datagen = ImageDataGenerator(rescale = 1./255)\n",
        "\n",
        "train_set = train_datagen.flow_from_directory(\"BanglaLekha_dataset/train\", target_size = (32, 32), \n",
        "                                                 batch_size = 32, class_mode = 'categorical',color_mode=\"grayscale\")\n",
        "val_set = val_datagen.flow_from_directory(\"BanglaLekha_dataset/val\", target_size = (32, 32), \n",
        "                                                 batch_size = 32, class_mode = 'categorical',color_mode=\"grayscale\")\n",
        "test_set = test_datagen.flow_from_directory(\"BanglaLekha_dataset/test\", target_size = (32, 32), \n",
        "                                                 batch_size = 32, class_mode = 'categorical',color_mode=\"grayscale\")"
      ],
      "metadata": {
        "colab": {
          "base_uri": "https://localhost:8080/"
        },
        "id": "5pg2_DnDnmm-",
        "outputId": "319b3621-fb69-4ba3-dae0-5b1a38dcd987"
      },
      "execution_count": 9,
      "outputs": [
        {
          "output_type": "stream",
          "name": "stdout",
          "text": [
            "Found 69244 images belonging to 50 classes.\n",
            "Found 9877 images belonging to 50 classes.\n",
            "Found 19829 images belonging to 50 classes.\n"
          ]
        }
      ]
    },
    {
      "cell_type": "code",
      "source": [
        "len(train_set)\n"
      ],
      "metadata": {
        "colab": {
          "base_uri": "https://localhost:8080/"
        },
        "id": "mYsSxFydnpCY",
        "outputId": "8bbb712e-a689-45bb-a281-fe0c93323588"
      },
      "execution_count": 19,
      "outputs": [
        {
          "output_type": "execute_result",
          "data": {
            "text/plain": [
              "69244"
            ]
          },
          "metadata": {},
          "execution_count": 19
        }
      ]
    },
    {
      "cell_type": "code",
      "source": [
        "classifier.fit(train_set, steps_per_epoch = len(train_set), epochs = 10,validation_data = val_set, validation_steps = len(val_set))"
      ],
      "metadata": {
        "colab": {
          "base_uri": "https://localhost:8080/"
        },
        "id": "Q-NHmGRJr7OF",
        "outputId": "880fda19-5b44-4ca3-b653-d701dcc33b15"
      },
      "execution_count": 10,
      "outputs": [
        {
          "output_type": "stream",
          "name": "stdout",
          "text": [
            "Epoch 1/10\n",
            "2164/2164 [==============================] - 60s 27ms/step - loss: 2.2540 - accuracy: 0.3955 - val_loss: 1.3537 - val_accuracy: 0.6133\n",
            "Epoch 2/10\n",
            "2164/2164 [==============================] - 56s 26ms/step - loss: 1.2361 - accuracy: 0.6527 - val_loss: 0.9499 - val_accuracy: 0.7347\n",
            "Epoch 3/10\n",
            "2164/2164 [==============================] - 55s 26ms/step - loss: 0.9830 - accuracy: 0.7240 - val_loss: 0.8114 - val_accuracy: 0.7745\n",
            "Epoch 4/10\n",
            "2164/2164 [==============================] - 57s 26ms/step - loss: 0.8358 - accuracy: 0.7652 - val_loss: 0.7299 - val_accuracy: 0.8032\n",
            "Epoch 5/10\n",
            "2164/2164 [==============================] - 56s 26ms/step - loss: 0.7334 - accuracy: 0.7944 - val_loss: 0.6755 - val_accuracy: 0.8153\n",
            "Epoch 6/10\n",
            "2164/2164 [==============================] - 56s 26ms/step - loss: 0.6586 - accuracy: 0.8157 - val_loss: 0.6270 - val_accuracy: 0.8317\n",
            "Epoch 7/10\n",
            "2164/2164 [==============================] - 55s 26ms/step - loss: 0.6007 - accuracy: 0.8306 - val_loss: 0.5651 - val_accuracy: 0.8482\n",
            "Epoch 8/10\n",
            "2164/2164 [==============================] - 55s 25ms/step - loss: 0.5507 - accuracy: 0.8451 - val_loss: 0.5608 - val_accuracy: 0.8495\n",
            "Epoch 9/10\n",
            "2164/2164 [==============================] - 56s 26ms/step - loss: 0.5152 - accuracy: 0.8555 - val_loss: 0.5202 - val_accuracy: 0.8580\n",
            "Epoch 10/10\n",
            "2164/2164 [==============================] - 55s 25ms/step - loss: 0.4816 - accuracy: 0.8623 - val_loss: 0.5421 - val_accuracy: 0.8561\n"
          ]
        },
        {
          "output_type": "execute_result",
          "data": {
            "text/plain": [
              "<keras.callbacks.History at 0x7f06162834d0>"
            ]
          },
          "metadata": {},
          "execution_count": 10
        }
      ]
    },
    {
      "cell_type": "code",
      "source": [
        "classifier.save_weights('train_weights1.h5')"
      ],
      "metadata": {
        "id": "wHeVuec1r1cN"
      },
      "execution_count": 11,
      "outputs": []
    },
    {
      "cell_type": "code",
      "source": [
        "classifier.evaluate(test_set)"
      ],
      "metadata": {
        "colab": {
          "base_uri": "https://localhost:8080/"
        },
        "id": "4j621KqLrQ2Y",
        "outputId": "10a8bed0-146a-453d-ba2c-3e7462d6e7e8"
      },
      "execution_count": 12,
      "outputs": [
        {
          "output_type": "stream",
          "name": "stdout",
          "text": [
            "620/620 [==============================] - 10s 16ms/step - loss: 0.4640 - accuracy: 0.8664\n"
          ]
        },
        {
          "output_type": "execute_result",
          "data": {
            "text/plain": [
              "[0.4640132486820221, 0.8664078116416931]"
            ]
          },
          "metadata": {},
          "execution_count": 12
        }
      ]
    },
    {
      "cell_type": "code",
      "source": [],
      "metadata": {
        "id": "LnDVvzTOqbKI"
      },
      "execution_count": null,
      "outputs": []
    },
    {
      "cell_type": "code",
      "source": [],
      "metadata": {
        "id": "d0JLR8l2pm0M"
      },
      "execution_count": null,
      "outputs": []
    },
    {
      "cell_type": "code",
      "source": [],
      "metadata": {
        "id": "G715oBL4miq2"
      },
      "execution_count": null,
      "outputs": []
    }
  ]
}
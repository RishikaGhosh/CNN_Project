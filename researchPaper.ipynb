{
 "cells": [
  {
   "cell_type": "code",
   "execution_count": 4,
   "id": "e8dbfa06",
   "metadata": {},
   "outputs": [],
   "source": [
    "from keras.models import Sequential\n",
    "from tensorflow.keras import utils as np_utils\n",
    "from keras.layers import Conv2D, MaxPooling2D, Flatten, Dense, Dropout\n",
    "import matplotlib.pyplot as plt\n",
    "from keras.preprocessing.image import ImageDataGenerator\n",
    "from PIL import ImageFile\n",
    "import tensorflow as tf"
   ]
  },
  {
   "cell_type": "code",
   "execution_count": 21,
   "id": "1603844e",
   "metadata": {},
   "outputs": [],
   "source": [
    "classifier = Sequential()\n",
    "classifier.add(Conv2D(filters = 32, kernel_size = (5, 5),activation = 'relu', input_shape = (32,32,1)))\n",
    "classifier.add(Conv2D(filters = 64, kernel_size = (5, 5),activation = 'relu'))\n",
    "classifier.add(MaxPooling2D(pool_size = (2, 2)))\n",
    "classifier.add(Conv2D(filters = 32, kernel_size = (3, 3),activation = 'relu'))\n",
    "classifier.add(Conv2D(filters = 64, kernel_size = (3, 3),activation = 'relu'))\n",
    "classifier.add(Flatten())\n",
    "classifier.add(Dense(units = 128, activation = 'relu'))\n",
    "classifier.add(Dropout(.2))\n",
    "classifier.add(Dense(units = 128, activation = 'relu'))\n",
    "classifier.add(Dropout(.2))\n",
    "classifier.add(Dense(units = 50, activation = 'softmax'))\n",
    "opt = tf.keras.optimizers.Adam(learning_rate=0.0001)\n",
    "classifier.compile(optimizer = opt , loss = 'categorical_crossentropy', metrics = ['accuracy'])"
   ]
  },
  {
   "cell_type": "code",
   "execution_count": 22,
   "id": "970edeb3",
   "metadata": {},
   "outputs": [
    {
     "name": "stdout",
     "output_type": "stream",
     "text": [
      "Model: \"sequential_5\"\n",
      "_________________________________________________________________\n",
      " Layer (type)                Output Shape              Param #   \n",
      "=================================================================\n",
      " conv2d_20 (Conv2D)          (None, 28, 28, 32)        832       \n",
      "                                                                 \n",
      " conv2d_21 (Conv2D)          (None, 24, 24, 64)        51264     \n",
      "                                                                 \n",
      " max_pooling2d_5 (MaxPooling  (None, 12, 12, 64)       0         \n",
      " 2D)                                                             \n",
      "                                                                 \n",
      " conv2d_22 (Conv2D)          (None, 10, 10, 32)        18464     \n",
      "                                                                 \n",
      " conv2d_23 (Conv2D)          (None, 8, 8, 64)          18496     \n",
      "                                                                 \n",
      " flatten_5 (Flatten)         (None, 4096)              0         \n",
      "                                                                 \n",
      " dense_15 (Dense)            (None, 128)               524416    \n",
      "                                                                 \n",
      " dropout_10 (Dropout)        (None, 128)               0         \n",
      "                                                                 \n",
      " dense_16 (Dense)            (None, 128)               16512     \n",
      "                                                                 \n",
      " dropout_11 (Dropout)        (None, 128)               0         \n",
      "                                                                 \n",
      " dense_17 (Dense)            (None, 50)                6450      \n",
      "                                                                 \n",
      "=================================================================\n",
      "Total params: 636,434\n",
      "Trainable params: 636,434\n",
      "Non-trainable params: 0\n",
      "_________________________________________________________________\n"
     ]
    }
   ],
   "source": [
    "classifier.summary()"
   ]
  },
  {
   "cell_type": "code",
   "execution_count": 35,
   "id": "5e3af82e",
   "metadata": {},
   "outputs": [
    {
     "name": "stdout",
     "output_type": "stream",
     "text": [
      "Found 118698 images belonging to 60 classes.\n"
     ]
    }
   ],
   "source": [
    "ImageFile.LOAD_TRUNCATED_IMAGES = True\n",
    "datagen = ImageDataGenerator()\n",
    "data_set = datagen.flow_from_directory('Dataset/BanglaLekha-Isolated/BanglaLekha-Isolated/data_set', target_size = (32,32), \n",
    "                                                 batch_size = 1, class_mode = 'categorical')"
   ]
  },
  {
   "cell_type": "code",
   "execution_count": 24,
   "id": "6cdb8012",
   "metadata": {},
   "outputs": [
    {
     "data": {
      "text/plain": [
       "118698"
      ]
     },
     "execution_count": 24,
     "metadata": {},
     "output_type": "execute_result"
    }
   ],
   "source": [
    "len(data_set)"
   ]
  },
  {
   "cell_type": "code",
   "execution_count": 27,
   "id": "22f9733b",
   "metadata": {},
   "outputs": [
    {
     "name": "stdout",
     "output_type": "stream",
     "text": [
      "Name: scikit-learn"
     ]
    },
    {
     "name": "stderr",
     "output_type": "stream",
     "text": [
      "WARNING: Ignoring invalid distribution -illow (c:\\users\\ghosh\\appdata\\local\\programs\\python\\python39\\lib\\site-packages)\n"
     ]
    },
    {
     "name": "stdout",
     "output_type": "stream",
     "text": [
      "\n",
      "Version: 1.1.3\n",
      "Summary: A set of python modules for machine learning and data mining\n",
      "Home-page: http://scikit-learn.org\n",
      "Author: \n",
      "Author-email: \n",
      "License: new BSD\n",
      "Location: c:\\users\\ghosh\\appdata\\local\\programs\\python\\python39\\lib\\site-packages\n",
      "Requires: joblib, numpy, scipy, threadpoolctl\n",
      "Required-by: \n"
     ]
    }
   ],
   "source": [
    "!pip show scikit_learn"
   ]
  },
  {
   "cell_type": "code",
   "execution_count": 9,
   "id": "a636294c",
   "metadata": {},
   "outputs": [],
   "source": [
    "import sklearn"
   ]
  },
  {
   "cell_type": "code",
   "execution_count": 10,
   "id": "316ae4fc",
   "metadata": {},
   "outputs": [],
   "source": [
    "from sklearn.model_selection import train_test_split"
   ]
  },
  {
   "cell_type": "code",
   "execution_count": 11,
   "id": "0ce75ff5",
   "metadata": {},
   "outputs": [],
   "source": [
    "import splitfolders"
   ]
  },
  {
   "cell_type": "code",
   "execution_count": 12,
   "id": "58aa7e15",
   "metadata": {},
   "outputs": [],
   "source": [
    "splitfolders.ratio('Dataset/BanglaLekha-Isolated/BanglaLekha-Isolated/data_set',output=\"Dataset/BanglaLekha-Isolated/BanglaLekha-Isolated/main\",seed=1337,ratio=(.8,.2),group_prefix=None)"
   ]
  },
  {
   "cell_type": "code",
   "execution_count": null,
   "id": "607c08c0",
   "metadata": {},
   "outputs": [],
   "source": []
  },
  {
   "cell_type": "code",
   "execution_count": 16,
   "id": "0c9d7262",
   "metadata": {},
   "outputs": [
    {
     "name": "stdout",
     "output_type": "stream",
     "text": [
      "Found 79142 images belonging to 50 classes.\n",
      "Found 19808 images belonging to 50 classes.\n"
     ]
    }
   ],
   "source": [
    "ImageFile.LOAD_TRUNCATED_IMAGES = True\n",
    "train_datagen = ImageDataGenerator(rescale = 1./255, shear_range = .2, rotation_range = 25)\n",
    "val_datagen = ImageDataGenerator(rescale = 1./255)\n",
    "train_data_set = train_datagen.flow_from_directory('Dataset/BanglaLekha-Isolated/BanglaLekha-Isolated/main/train', target_size = (32,32), \n",
    "                                                 batch_size = 1, class_mode = 'categorical',color_mode=\"grayscale\")\n",
    "val_data_set = val_datagen.flow_from_directory('Dataset/BanglaLekha-Isolated/BanglaLekha-Isolated/main/val', target_size = (32,32), \n",
    "                                                 batch_size = 1, class_mode = 'categorical',color_mode=\"grayscale\")"
   ]
  },
  {
   "cell_type": "code",
   "execution_count": 17,
   "id": "28f827d8",
   "metadata": {},
   "outputs": [
    {
     "data": {
      "text/plain": [
       "79142"
      ]
     },
     "execution_count": 17,
     "metadata": {},
     "output_type": "execute_result"
    }
   ],
   "source": [
    "len(train_data_set)"
   ]
  },
  {
   "cell_type": "code",
   "execution_count": 19,
   "id": "94772cbb",
   "metadata": {},
   "outputs": [
    {
     "data": {
      "text/plain": [
       "19808"
      ]
     },
     "execution_count": 19,
     "metadata": {},
     "output_type": "execute_result"
    }
   ],
   "source": [
    "len(val_data_set)"
   ]
  },
  {
   "cell_type": "code",
   "execution_count": 23,
   "id": "93b269f6",
   "metadata": {},
   "outputs": [
    {
     "name": "stdout",
     "output_type": "stream",
     "text": [
      "Epoch 1/10\n"
     ]
    },
    {
     "name": "stderr",
     "output_type": "stream",
     "text": [
      "C:\\Users\\ghosh\\AppData\\Local\\Temp\\ipykernel_11712\\430951441.py:1: UserWarning: `Model.fit_generator` is deprecated and will be removed in a future version. Please use `Model.fit`, which supports generators.\n",
      "  model_history=classifier.fit_generator(train_data_set, steps_per_epoch =79142, epochs = 10,\n"
     ]
    },
    {
     "name": "stdout",
     "output_type": "stream",
     "text": [
      "79142/79142 [==============================] - 799s 10ms/step - loss: 1.6844 - accuracy: 0.5238 - val_loss: 0.7083 - val_accuracy: 0.7906\n",
      "Epoch 2/10\n",
      "79142/79142 [==============================] - 770s 10ms/step - loss: 0.8584 - accuracy: 0.7495 - val_loss: 0.5571 - val_accuracy: 0.8315\n",
      "Epoch 3/10\n",
      "79142/79142 [==============================] - 760s 10ms/step - loss: 0.6764 - accuracy: 0.8044 - val_loss: 0.5087 - val_accuracy: 0.8524\n",
      "Epoch 4/10\n",
      "79142/79142 [==============================] - 889s 11ms/step - loss: 0.5926 - accuracy: 0.8321 - val_loss: 0.4399 - val_accuracy: 0.8760\n",
      "Epoch 5/10\n",
      "79142/79142 [==============================] - 849s 11ms/step - loss: 0.5313 - accuracy: 0.8485 - val_loss: 0.3951 - val_accuracy: 0.8905\n",
      "Epoch 6/10\n",
      "79142/79142 [==============================] - 830s 10ms/step - loss: 0.4938 - accuracy: 0.8588 - val_loss: 0.3773 - val_accuracy: 0.8961\n",
      "Epoch 7/10\n",
      "79142/79142 [==============================] - 838s 11ms/step - loss: 0.4696 - accuracy: 0.8665 - val_loss: 0.3853 - val_accuracy: 0.8986\n",
      "Epoch 8/10\n",
      "79142/79142 [==============================] - 872s 11ms/step - loss: 0.4494 - accuracy: 0.8734 - val_loss: 0.3838 - val_accuracy: 0.8952\n",
      "Epoch 9/10\n",
      "79142/79142 [==============================] - 844s 11ms/step - loss: 0.4345 - accuracy: 0.8783 - val_loss: 0.3769 - val_accuracy: 0.9004\n",
      "Epoch 10/10\n",
      "79142/79142 [==============================] - 859s 11ms/step - loss: 0.4216 - accuracy: 0.8820 - val_loss: 0.3772 - val_accuracy: 0.9008\n"
     ]
    }
   ],
   "source": [
    "model_history=classifier.fit_generator(train_data_set, steps_per_epoch =79142, epochs = 10,\n",
    "                        validation_data = val_data_set, validation_steps = 19808)"
   ]
  },
  {
   "cell_type": "code",
   "execution_count": 24,
   "id": "a63c7364",
   "metadata": {},
   "outputs": [
    {
     "data": {
      "text/plain": [
       "{'verbose': 1, 'epochs': 10, 'steps': 79142}"
      ]
     },
     "execution_count": 24,
     "metadata": {},
     "output_type": "execute_result"
    }
   ],
   "source": [
    "model_history.params"
   ]
  },
  {
   "cell_type": "code",
   "execution_count": 25,
   "id": "0af54637",
   "metadata": {},
   "outputs": [
    {
     "data": {
      "text/plain": [
       "{'loss': [1.6843539476394653,\n",
       "  0.8583548069000244,\n",
       "  0.6763797998428345,\n",
       "  0.5925560593605042,\n",
       "  0.531265377998352,\n",
       "  0.49384990334510803,\n",
       "  0.4696071445941925,\n",
       "  0.4494037926197052,\n",
       "  0.4345165491104126,\n",
       "  0.42162519693374634],\n",
       " 'accuracy': [0.5237674117088318,\n",
       "  0.7494882345199585,\n",
       "  0.8044275045394897,\n",
       "  0.8321498036384583,\n",
       "  0.8485380411148071,\n",
       "  0.8588107228279114,\n",
       "  0.8664552569389343,\n",
       "  0.8734173774719238,\n",
       "  0.8783073425292969,\n",
       "  0.8819590210914612],\n",
       " 'val_loss': [0.7082683444023132,\n",
       "  0.557073175907135,\n",
       "  0.5086631774902344,\n",
       "  0.43991991877555847,\n",
       "  0.3950752317905426,\n",
       "  0.37728065252304077,\n",
       "  0.3853139877319336,\n",
       "  0.3837504982948303,\n",
       "  0.3768823444843292,\n",
       "  0.3771888315677643],\n",
       " 'val_accuracy': [0.7905896902084351,\n",
       "  0.8315327167510986,\n",
       "  0.8523828983306885,\n",
       "  0.8760097026824951,\n",
       "  0.8904988169670105,\n",
       "  0.8960521221160889,\n",
       "  0.8985763192176819,\n",
       "  0.8952443599700928,\n",
       "  0.9003937840461731,\n",
       "  0.9008481502532959]}"
      ]
     },
     "execution_count": 25,
     "metadata": {},
     "output_type": "execute_result"
    }
   ],
   "source": [
    "model_history.history"
   ]
  },
  {
   "cell_type": "code",
   "execution_count": 31,
   "id": "ce4c25f3",
   "metadata": {},
   "outputs": [
    {
     "data": {
      "text/plain": [
       "<function matplotlib.pyplot.show(close=None, block=None)>"
      ]
     },
     "execution_count": 31,
     "metadata": {},
     "output_type": "execute_result"
    },
    {
     "data": {
      "image/png": "[encoded data removed]",
      "text/plain": [
       "<Figure size 500x500 with 1 Axes>"
      ]
     },
     "metadata": {},
     "output_type": "display_data"
    }
   ],
   "source": [
    "import pandas as pd\n",
    "pd.DataFrame(model_history.history).plot(figsize=(5,5))\n",
    "plt.grid(True)\n",
    "plt.gca().set_ylim(0,1)\n",
    "plt.show"
   ]
  },
  {
   "cell_type": "code",
   "execution_count": 35,
   "id": "ad63804a",
   "metadata": {},
   "outputs": [
    {
     "data": {
      "image/png": "[encoded data removed]",
      "text/plain": [
       "<Figure size 640x480 with 1 Axes>"
      ]
     },
     "metadata": {},
     "output_type": "display_data"
    }
   ],
   "source": [
    "plt.plot(model_history.history['val_accuracy'])\n",
    "plt.ylabel('accuracy')\n",
    "plt.xlabel('epoch')\n",
    "plt.show()"
   ]
  },
  {
   "cell_type": "code",
   "execution_count": 37,
   "id": "f782796e",
   "metadata": {},
   "outputs": [
    {
     "data": {
      "image/png": "[encoded data removed]",
      "text/plain": [
       "<Figure size 640x480 with 1 Axes>"
      ]
     },
     "metadata": {},
     "output_type": "display_data"
    }
   ],
   "source": [
    "plt.plot(model_history.history['val_loss'])\n",
    "plt.ylabel('accuracy')\n",
    "plt.xlabel('epoch')\n",
    "plt.show()"
   ]
  },
  {
   "cell_type": "code",
   "execution_count": null,
   "id": "c27f4c11",
   "metadata": {},
   "outputs": [],
   "source": []
  }
 ],
 "metadata": {
  "kernelspec": {
   "display_name": "Python 3 (ipykernel)",
   "language": "python",
   "name": "python3"
  },
  "language_info": {
   "codemirror_mode": {
    "name": "ipython",
    "version": 3
   },
   "file_extension": ".py",
   "mimetype": "text/x-python",
   "name": "python",
   "nbconvert_exporter": "python",
   "pygments_lexer": "ipython3",
   "version": "3.9.11"
  }
 },
 "nbformat": 4,
 "nbformat_minor": 5
}
